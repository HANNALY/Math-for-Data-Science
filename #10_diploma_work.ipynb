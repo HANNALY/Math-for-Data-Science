{
 "cells": [
  {
   "cell_type": "code",
   "execution_count": 79,
   "metadata": {},
   "outputs": [],
   "source": [
    "import numpy as np\n",
    "import pandas as pd\n",
    "from sympy import *\n",
    "from scipy.misc import derivative\n",
    "import matplotlib.pyplot as plt\n",
    "import math\n",
    "from numpy import linalg as LA\n",
    "from sklearn.metrics.pairwise import pairwise_distances\n",
    "from scipy.optimize import minimize\n",
    "from scipy.optimize import differential_evolution\n",
    "from sklearn.decomposition import PCA\n",
    "from sklearn.decomposition import TruncatedSVD\n",
    "from tqdm import tqdm_notebook as tqdm\n"
   ]
  },
  {
   "cell_type": "markdown",
   "metadata": {},
   "source": [
    "# 1"
   ]
  },
  {
   "cell_type": "code",
   "execution_count": 83,
   "metadata": {},
   "outputs": [],
   "source": [
    "\n",
    "raitings = np.array([[ 4,  4,  9,  4,  1,  6, 10,  7,  9,  6,  9,  2,  8,  6,  6],\n",
    "                     [ 9,  2,  5, 10,  7,  8, 10,  5,  6,  2,  1,  6,  8,  9,  7],\n",
    "                     [ 1,  6,  8,  8,  4,  9,  3,  8, 10,  5,  2,  6,  8,  1,  6],\n",
    "                     [ 6,  1,  9,  7,  7,  9,  2,  3,  5,  1,  6,  6,  3,  2,  7],\n",
    "                     [ 3,  7,  3,  5,  7,  9,  9,  6,  2,  9,  1,  2,  8, 10,  6],\n",
    "                     [ 8,  3,  7,  3,  8,  6,  1,  8,  8,  6,  1,  9,  4, 10,  1],\n",
    "                     [ 9,  8,  4,  8,  8, 10,  6,  1,  1,  2,  9,  5,  2,  7,  2],\n",
    "                     [ 4,  1,  6,  4,  3, 10,  4,  4,  2,  8,  7,  9,  3,  8,  3],\n",
    "                     [ 2,  7,  7,  6, 10,  6,  8,  9,  8,  6, 10,  1,  7, 10,  4],\n",
    "                     [ 5, 10,  8,  8,  9,  7,  2,  9,  9, 10,  8,  8,  8,  6, 10]])\n"
   ]
  },
  {
   "cell_type": "code",
   "execution_count": 84,
   "metadata": {},
   "outputs": [],
   "source": [
    "X=raitings"
   ]
  },
  {
   "cell_type": "code",
   "execution_count": 85,
   "metadata": {},
   "outputs": [
    {
     "data": {
      "text/plain": [
       "array([[0.        , 0.17397081, 0.15078471, 0.21659884, 0.18082368,\n",
       "        0.25881452, 0.27264172, 0.19032478, 0.08934018, 0.13989224],\n",
       "       [0.17397081, 0.        , 0.18765675, 0.15364663, 0.12861948,\n",
       "        0.17286893, 0.17370316, 0.19973997, 0.17473692, 0.18031873],\n",
       "       [0.15078471, 0.18765675, 0.        , 0.15330626, 0.21605701,\n",
       "        0.20902015, 0.32383777, 0.23710448, 0.17887923, 0.08126949],\n",
       "       [0.21659884, 0.15364663, 0.15330626, 0.        , 0.30846591,\n",
       "        0.21334208, 0.16725789, 0.17065333, 0.2229334 , 0.1411313 ],\n",
       "       [0.18082368, 0.12861948, 0.21605701, 0.30846591, 0.        ,\n",
       "        0.2235566 , 0.21799532, 0.18763131, 0.12051523, 0.15425211],\n",
       "       [0.25881452, 0.17286893, 0.20902015, 0.21334208, 0.2235566 ,\n",
       "        0.        , 0.25988199, 0.15548315, 0.19377124, 0.14485092],\n",
       "       [0.27264172, 0.17370316, 0.32383777, 0.16725789, 0.21799532,\n",
       "        0.25988199, 0.        , 0.17330826, 0.18869956, 0.20845282],\n",
       "       [0.19032478, 0.19973997, 0.23710448, 0.17065333, 0.18763131,\n",
       "        0.15548315, 0.17330826, 0.        , 0.2018724 , 0.16317771],\n",
       "       [0.08934018, 0.17473692, 0.17887923, 0.2229334 , 0.12051523,\n",
       "        0.19377124, 0.18869956, 0.2018724 , 0.        , 0.09906203],\n",
       "       [0.13989224, 0.18031873, 0.08126949, 0.1411313 , 0.15425211,\n",
       "        0.14485092, 0.20845282, 0.16317771, 0.09906203, 0.        ]])"
      ]
     },
     "execution_count": 85,
     "metadata": {},
     "output_type": "execute_result"
    }
   ],
   "source": [
    "#A Необходимо найти наиболее похожего пользователя по косинусной метрике для каждого из (ответ: 10 пар вида (x, y), где y - наиболее похожий пользователь на пользователя x).\n",
    "from  sklearn.metrics.pairwise import pairwise_distances\n",
    "\n",
    "demo_data = raitings\n",
    "pairwise_distances(demo_data, metric='cosine')\n"
   ]
  },
  {
   "cell_type": "code",
   "execution_count": 86,
   "metadata": {},
   "outputs": [
    {
     "data": {
      "text/plain": [
       "80.7031597894407"
      ]
     },
     "execution_count": 86,
     "metadata": {},
     "output_type": "execute_result"
    }
   ],
   "source": [
    "LA.norm(raitings)"
   ]
  },
  {
   "cell_type": "code",
   "execution_count": 4,
   "metadata": {},
   "outputs": [
    {
     "data": {
      "text/plain": [
       "PCA(n_components=5)"
      ]
     },
     "execution_count": 4,
     "metadata": {},
     "output_type": "execute_result"
    }
   ],
   "source": [
    "#B сжать признаковые описания пользователя с 15 фильмов, до, скажем, 5-ти признаков, как вы это сделаете\n",
    "pca = PCA(n_components=5)\n",
    "pca.fit(X)"
   ]
  },
  {
   "cell_type": "code",
   "execution_count": 5,
   "metadata": {},
   "outputs": [
    {
     "name": "stdout",
     "output_type": "stream",
     "text": [
      "[0.25373748 0.1970209  0.14113306 0.12956371 0.11289928]\n"
     ]
    }
   ],
   "source": [
    "print(pca.explained_variance_ratio_)"
   ]
  },
  {
   "cell_type": "code",
   "execution_count": 6,
   "metadata": {},
   "outputs": [
    {
     "name": "stdout",
     "output_type": "stream",
     "text": [
      "[16.91716582 14.90704109 12.61681323 12.08862725 11.28446283]\n"
     ]
    }
   ],
   "source": [
    "print(pca.singular_values_)"
   ]
  },
  {
   "cell_type": "code",
   "execution_count": 7,
   "metadata": {},
   "outputs": [
    {
     "data": {
      "text/plain": [
       "TruncatedSVD(n_components=5, n_iter=3, random_state=42)"
      ]
     },
     "execution_count": 7,
     "metadata": {},
     "output_type": "execute_result"
    }
   ],
   "source": [
    "X = raitings\n",
    "svd = TruncatedSVD(n_components=5, n_iter=3, random_state=42)\n",
    "svd.fit(X)"
   ]
  },
  {
   "cell_type": "code",
   "execution_count": 8,
   "metadata": {},
   "outputs": [
    {
     "name": "stdout",
     "output_type": "stream",
     "text": [
      "[0.07951819 0.22322522 0.19305559 0.14061375 0.12711606]\n"
     ]
    }
   ],
   "source": [
    "print(svd.explained_variance_ratio_)"
   ]
  },
  {
   "cell_type": "code",
   "execution_count": 9,
   "metadata": {},
   "outputs": [
    {
     "name": "stdout",
     "output_type": "stream",
     "text": [
      "0.7635288023599804\n"
     ]
    }
   ],
   "source": [
    "print(svd.explained_variance_ratio_.sum())"
   ]
  },
  {
   "cell_type": "code",
   "execution_count": 10,
   "metadata": {},
   "outputs": [
    {
     "name": "stdout",
     "output_type": "stream",
     "text": [
      "[73.97894988 15.90026986 14.76407467 12.59396914 11.97537142]\n"
     ]
    }
   ],
   "source": [
    "print(svd.singular_values_)"
   ]
  },
  {
   "cell_type": "markdown",
   "metadata": {},
   "source": [
    "# 2"
   ]
  },
  {
   "cell_type": "code",
   "execution_count": 11,
   "metadata": {},
   "outputs": [
    {
     "data": {
      "text/latex": [
       "$\\displaystyle 57.065312694603$"
      ],
      "text/plain": [
       "57.0653126946030"
      ]
     },
     "execution_count": 11,
     "metadata": {},
     "output_type": "execute_result"
    }
   ],
   "source": [
    "#Вычислите производную tg^2(sin(x) + cos(2x+3)) в точке x=1 (на python и на бумаге).\n",
    "def f(x):\n",
    "    return tan (sin (x) + cos (2 * x + 3)) ** 2 \n",
    "derivative(f, 1.0)\n"
   ]
  },
  {
   "cell_type": "code",
   "execution_count": 12,
   "metadata": {},
   "outputs": [
    {
     "name": "stdout",
     "output_type": "stream",
     "text": [
      "tan(cos(5) + sin(1))**2\n"
     ]
    }
   ],
   "source": [
    "# import sympy\n",
    "from sympy import *\n",
    "  \n",
    "# Use sympy.symbols() method\n",
    "x, y = symbols('x y')\n",
    "x = 1\n",
    "gfg = tan (sin (x) + cos (2 * x + 3)) ** 2 \n",
    "  \n",
    "print(gfg)"
   ]
  },
  {
   "cell_type": "code",
   "execution_count": 13,
   "metadata": {},
   "outputs": [
    {
     "data": {
      "text/latex": [
       "$\\displaystyle 2 \\left(- 2 \\sin{\\left(2 x + 3 \\right)} + \\cos{\\left(x \\right)}\\right) \\left(\\tan^{2}{\\left(\\sin{\\left(x \\right)} + \\cos{\\left(2 x + 3 \\right)} \\right)} + 1\\right) \\tan{\\left(\\sin{\\left(x \\right)} + \\cos{\\left(2 x + 3 \\right)} \\right)}$"
      ],
      "text/plain": [
       "2*(-2*sin(2*x + 3) + cos(x))*(tan(sin(x) + cos(2*x + 3))**2 + 1)*tan(sin(x) + cos(2*x + 3))"
      ]
     },
     "execution_count": 13,
     "metadata": {},
     "output_type": "execute_result"
    }
   ],
   "source": [
    "x = Symbol('x')\n",
    "\n",
    "\n",
    "f = tan (sin (x) + cos (2 * x + 3)) ** 2\n",
    " \n",
    "derivative_f =f.diff(x)\n",
    "derivative_f"
   ]
  },
  {
   "cell_type": "code",
   "execution_count": 14,
   "metadata": {},
   "outputs": [
    {
     "name": "stdout",
     "output_type": "stream",
     "text": [
      "tan(sin(x) + cos(2*x + 3))**2\n"
     ]
    }
   ],
   "source": [
    "expn = tan (sin (x) + cos (2 * x + 3)) ** 2 \n",
    "\n",
    "gfg = expn.evalf()\n",
    "print(gfg)"
   ]
  },
  {
   "cell_type": "code",
   "execution_count": 15,
   "metadata": {},
   "outputs": [
    {
     "data": {
      "text/plain": [
       "array([4.89069277e+01, 6.32474019e+00, 5.09608116e+00, 1.52295318e+01,\n",
       "       1.03002494e+02, 2.29748132e+00, 2.12155406e-01, 1.51617092e-02,\n",
       "       4.78931712e-01, 2.05132869e+00, 5.17365442e+00, 6.03267225e+00,\n",
       "       3.23611544e+00, 1.22670215e+00, 3.92281901e-01, 9.16850807e-02,\n",
       "       9.03222746e-03, 1.13712903e-06, 8.94373804e-04, 3.05231655e-02,\n",
       "       1.77032884e-01, 5.91751523e-01, 1.49866935e+00, 2.77846377e+00,\n",
       "       2.93862895e+00, 1.56332656e+00, 4.48128448e-01, 2.27517552e-02,\n",
       "       1.54992251e-01, 1.71493848e+00, 3.74695873e+01, 2.25676459e+01,\n",
       "       5.47547054e+00, 5.64080110e+00, 2.68152462e+01, 2.65087391e+01,\n",
       "       1.42245621e+00, 1.03539992e-01, 5.64103800e-02, 6.89809439e-01,\n",
       "       2.61366659e+00, 5.76635095e+00, 5.56308321e+00, 2.67905798e+00,\n",
       "       9.77420636e-01, 2.98713433e-01, 6.22638678e-02, 4.24759602e-03,\n",
       "       1.00002537e-05, 2.65462077e-03])"
      ]
     },
     "execution_count": 15,
     "metadata": {},
     "output_type": "execute_result"
    }
   ],
   "source": [
    "import sympy as sym\n",
    "\n",
    "x = sym.symbols(\"x\")\n",
    "x_values = np.linspace(-5, 5)\n",
    "\n",
    "function = sym.lambdify(x, tan (sin (x) + cos (2 * x + 3)) ** 2, \"numpy\")\n",
    "function(x_values)"
   ]
  },
  {
   "cell_type": "code",
   "execution_count": 16,
   "metadata": {},
   "outputs": [
    {
     "data": {
      "text/plain": [
       "<sympy.plotting.plot.Plot at 0x158d1381910>"
      ]
     },
     "execution_count": 16,
     "metadata": {},
     "output_type": "execute_result"
    }
   ],
   "source": [
    "from sympy import symbols\n",
    "from sympy.plotting import plot\n",
    "x = symbols('x')\n",
    "p1 = plot(10 * sin(2 * 𝑥 + 1) ** 4 * cos(2 * 𝑥 + 1), show=False)\n",
    "p2 = plot(x, show=False)\n",
    "p1.extend(p2)\n",
    "p1"
   ]
  },
  {
   "cell_type": "code",
   "execution_count": 17,
   "metadata": {},
   "outputs": [
    {
     "data": {
      "image/png": "[encoded data removed]",
      "text/plain": [
       "<Figure size 432x288 with 1 Axes>"
      ]
     },
     "metadata": {
      "needs_background": "light"
     },
     "output_type": "display_data"
    }
   ],
   "source": [
    "p1.show()"
   ]
  },
  {
   "cell_type": "markdown",
   "metadata": {},
   "source": [
    "#Решение на бумаге\n",
    "\n",
    "f(x)= (tg(sin(x)+cos(2x + 3))) ^ 2\n",
    "(tg(sin(x) + cos (2x + 3)) ^ 2)՚ = 2 (tg (sin(x) +cos (2x + 3))) ^ 2-1\n",
    "((tg(sin(x) + cos (2x + 3)))՚ = 2 (- 2 sin⁡(2x + 3) + cos⁡(x))/(cos⁡(sin⁡(X)+cos⁡(2x+3))  \n",
    "((tg(sin(x) + cos (2x + 3)))՚ (sin(x) + cos(2x + 3))՚ = (-2*sin⁡(2x+3)+cos⁡(x))/(cos⁡(sin⁡(X)+cos⁡(2x+3)) ^ 2)\n",
    "(sin(x) + cos(2*x +3))՚ = (cos(2x +3))՚ + (sin(X))՚ = (-2 * sin(2x +3)) + cos(x) = -2 * sin(2*x + 3) +cos(x)\n",
    "cos(2x +3))՚ = (cos(2x+3))՚ * (2x+3)՚ = -2*sin(2x+3)\n",
    "sin(2x+3)՚ = 2\n",
    "\n",
    "#Ответ\n",
    "   \n",
    "2(-2 sin⁡(2x + 3) + cos⁡(x))/(cos⁡(sin⁡(X)+cos⁡(2x+3))                              \n",
    "                                "
   ]
  },
  {
   "cell_type": "markdown",
   "metadata": {},
   "source": [
    "# 3"
   ]
  },
  {
   "cell_type": "code",
   "execution_count": 19,
   "metadata": {},
   "outputs": [],
   "source": [
    "def f(x, a, b):\n",
    "    return np.e**a * np.sin(b*x) + x"
   ]
  },
  {
   "cell_type": "code",
   "execution_count": 20,
   "metadata": {},
   "outputs": [],
   "source": [
    "x = np.array([0.        , 0.26315789, 0.52631579, 0.78947368, 1.05263158,\n",
    "              1.31578947, 1.57894737, 1.84210526, 2.10526316, 2.36842105,\n",
    "              2.63157895, 2.89473684, 3.15789474, 3.42105263, 3.68421053,\n",
    "              3.94736842, 4.21052632, 4.47368421, 4.73684211, 5.        ])"
   ]
  },
  {
   "cell_type": "code",
   "execution_count": 21,
   "metadata": {},
   "outputs": [],
   "source": [
    "fx = np.array([  0.        , -12.01819092, -18.90968634, -17.68786571,\n",
    "                -8.7529108 ,   4.27524517,  16.06801336,  21.81250213,\n",
    "                19.22059845,   9.48411207,  -3.22273056, -13.48576488,\n",
    "               -16.91096359, -11.95866834,  -0.58630088,  12.56873816,\n",
    "                22.12489421,  24.20292139,  18.04522521,   6.33211092])"
   ]
  },
  {
   "cell_type": "code",
   "execution_count": 22,
   "metadata": {},
   "outputs": [
    {
     "data": {
      "image/png": "[encoded data removed]",
      "text/plain": [
       "<Figure size 432x288 with 1 Axes>"
      ]
     },
     "metadata": {
      "needs_background": "light"
     },
     "output_type": "display_data"
    }
   ],
   "source": [
    "plt.plot(x, fx)\n",
    "plt.show()"
   ]
  },
  {
   "cell_type": "code",
   "execution_count": 23,
   "metadata": {},
   "outputs": [],
   "source": [
    "def error(params):\n",
    "    return np.sum(np.abs(fx - f(x, params[0], params[1])))"
   ]
  },
  {
   "cell_type": "code",
   "execution_count": 24,
   "metadata": {},
   "outputs": [
    {
     "name": "stderr",
     "output_type": "stream",
     "text": [
      "C:\\Users\\kozlo\\anaconda3\\lib\\site-packages\\scipy\\optimize\\_minimize.py:623: OptimizeWarning: Unknown solver options: xtol\n",
      "  return _minimize_cobyla(fun, x0, args, constraints, **options)\n"
     ]
    },
    {
     "data": {
      "text/plain": [
       "     fun: 242.84016777994267\n",
       "   maxcv: 0.0\n",
       " message: 'Optimization terminated successfully.'\n",
       "    nfev: 35\n",
       "  status: 1\n",
       " success: True\n",
       "       x: array([2.08279338, 5.05970416])"
      ]
     },
     "execution_count": 24,
     "metadata": {},
     "output_type": "execute_result"
    }
   ],
   "source": [
    "res = minimize (error, [2, 5], method = 'COBYLA', options={'xtol': 1e-6, 'disp': True})\n",
    "res"
   ]
  },
  {
   "cell_type": "code",
   "execution_count": 25,
   "metadata": {},
   "outputs": [
    {
     "name": "stdout",
     "output_type": "stream",
     "text": [
      "differential_evolution step 1: f(x)= 232.486\n",
      "differential_evolution step 2: f(x)= 194.814\n",
      "differential_evolution step 3: f(x)= 194.814\n",
      "differential_evolution step 4: f(x)= 194.814\n",
      "differential_evolution step 5: f(x)= 50.8417\n",
      "differential_evolution step 6: f(x)= 50.8417\n",
      "differential_evolution step 7: f(x)= 50.8417\n",
      "differential_evolution step 8: f(x)= 50.8417\n",
      "differential_evolution step 9: f(x)= 50.8417\n",
      "differential_evolution step 10: f(x)= 50.8417\n",
      "differential_evolution step 11: f(x)= 50.8417\n",
      "differential_evolution step 12: f(x)= 50.8417\n",
      "differential_evolution step 13: f(x)= 25.5681\n",
      "differential_evolution step 14: f(x)= 7.25529\n",
      "differential_evolution step 15: f(x)= 7.25529\n",
      "differential_evolution step 16: f(x)= 4.58911\n",
      "differential_evolution step 17: f(x)= 4.58911\n",
      "differential_evolution step 18: f(x)= 3.43082\n",
      "differential_evolution step 19: f(x)= 1.32995\n",
      "differential_evolution step 20: f(x)= 0.393021\n",
      "differential_evolution step 21: f(x)= 0.393021\n",
      "differential_evolution step 22: f(x)= 0.354547\n",
      "differential_evolution step 23: f(x)= 0.354547\n",
      "differential_evolution step 24: f(x)= 0.134095\n",
      "differential_evolution step 25: f(x)= 0.134095\n",
      "differential_evolution step 26: f(x)= 0.134095\n",
      "differential_evolution step 27: f(x)= 0.113709\n",
      "differential_evolution step 28: f(x)= 0.0575805\n",
      "differential_evolution step 29: f(x)= 0.0441181\n",
      "differential_evolution step 30: f(x)= 0.0441181\n",
      "differential_evolution step 31: f(x)= 0.0387638\n",
      "differential_evolution step 32: f(x)= 0.0135401\n",
      "differential_evolution step 33: f(x)= 0.0135401\n",
      "differential_evolution step 34: f(x)= 0.00941774\n",
      "differential_evolution step 35: f(x)= 0.00709141\n",
      "differential_evolution step 36: f(x)= 0.000423833\n",
      "differential_evolution step 37: f(x)= 0.000423833\n",
      "differential_evolution step 38: f(x)= 0.000423833\n",
      "differential_evolution step 39: f(x)= 0.000183347\n",
      "differential_evolution step 40: f(x)= 0.000128769\n",
      "differential_evolution step 41: f(x)= 0.000128769\n",
      "differential_evolution step 42: f(x)= 9.48548e-05\n",
      "differential_evolution step 43: f(x)= 7.34138e-05\n",
      "differential_evolution step 44: f(x)= 2.69401e-05\n",
      "differential_evolution step 45: f(x)= 2.69401e-05\n",
      "differential_evolution step 46: f(x)= 2.69401e-05\n",
      "differential_evolution step 47: f(x)= 2.69401e-05\n",
      "differential_evolution step 48: f(x)= 1.27635e-05\n",
      "differential_evolution step 49: f(x)= 8.8679e-06\n",
      "differential_evolution step 50: f(x)= 2.80824e-06\n",
      "differential_evolution step 51: f(x)= 2.80824e-06\n",
      "differential_evolution step 52: f(x)= 2.80824e-06\n",
      "differential_evolution step 53: f(x)= 1.83212e-06\n",
      "differential_evolution step 54: f(x)= 1.83212e-06\n",
      "differential_evolution step 55: f(x)= 1.8196e-06\n",
      "differential_evolution step 56: f(x)= 1.78617e-06\n",
      "differential_evolution step 57: f(x)= 1.55865e-06\n",
      "differential_evolution step 58: f(x)= 1.55865e-06\n",
      "differential_evolution step 59: f(x)= 1.55865e-06\n",
      "differential_evolution step 60: f(x)= 1.53349e-06\n",
      "differential_evolution step 61: f(x)= 1.53273e-06\n",
      "differential_evolution step 62: f(x)= 1.53078e-06\n",
      "differential_evolution step 63: f(x)= 1.51989e-06\n",
      "differential_evolution step 64: f(x)= 1.51346e-06\n",
      "differential_evolution step 65: f(x)= 1.51272e-06\n",
      "differential_evolution step 66: f(x)= 1.51178e-06\n"
     ]
    },
    {
     "data": {
      "text/plain": [
       "     fun: 1.5117754070814726e-06\n",
       " message: 'Optimization terminated successfully.'\n",
       "    nfev: 2073\n",
       "     nit: 66\n",
       " success: True\n",
       "       x: array([ 3. , -2.5])"
      ]
     },
     "execution_count": 25,
     "metadata": {},
     "output_type": "execute_result"
    }
   ],
   "source": [
    "res = differential_evolution(error, [(-5, 5), (-5, 5)], disp=True)\n",
    "res"
   ]
  },
  {
   "cell_type": "markdown",
   "metadata": {},
   "source": [
    "# 4"
   ]
  },
  {
   "cell_type": "code",
   "execution_count": 74,
   "metadata": {},
   "outputs": [
    {
     "data": {
      "text/plain": [
       "array([74, 36, 73, 34, 19, 22, 72,  5, 57, 52, 42,  7, 26, 43, 66, 61,  8,\n",
       "       52, 33, 42])"
      ]
     },
     "execution_count": 74,
     "metadata": {},
     "output_type": "execute_result"
    }
   ],
   "source": [
    "#Создайте собственную дискретную случайную величину с 20 значениями\n",
    "a = np.random.randint(77, size = 20)\n",
    "a"
   ]
  },
  {
   "cell_type": "code",
   "execution_count": 75,
   "metadata": {},
   "outputs": [
    {
     "data": {
      "text/plain": [
       "array([992, 579, 325, 233, 263, 822, 468,  34, 935,  49, 287, 571, 667,\n",
       "       585, 503,  29, 299, 826, 772, 839,  54, 644, 336, 443, 421, 747,\n",
       "       673,  95, 603, 486, 757, 332, 515, 635, 247, 293, 286, 693, 916,\n",
       "       406, 501, 849, 535, 458, 161,  84, 396, 930, 425, 768])"
      ]
     },
     "execution_count": 75,
     "metadata": {},
     "output_type": "execute_result"
    }
   ],
   "source": [
    "#Сгенерируйте 1000 выборок размера 50\n",
    "b = np.random.choice(1000,50)\n",
    "b"
   ]
  },
  {
   "cell_type": "code",
   "execution_count": 76,
   "metadata": {},
   "outputs": [
    {
     "data": {
      "text/plain": [
       "495.34"
      ]
     },
     "execution_count": 76,
     "metadata": {},
     "output_type": "execute_result"
    }
   ],
   "source": [
    "#Посчитайте среднее для каждой выборки\n",
    "np.mean(b)"
   ]
  },
  {
   "cell_type": "code",
   "execution_count": 77,
   "metadata": {},
   "outputs": [
    {
     "data": {
      "image/png": "[encoded data removed]",
      "text/plain": [
       "<Figure size 432x288 with 1 Axes>"
      ]
     },
     "metadata": {
      "needs_background": "light"
     },
     "output_type": "display_data"
    }
   ],
   "source": [
    "#Постройте гистограмму распределения средних\n",
    "plt.hist(a, 16, density=True,color='Pink')\n",
    "plt.show()"
   ]
  },
  {
   "cell_type": "markdown",
   "metadata": {},
   "source": [
    "# 5"
   ]
  },
  {
   "cell_type": "code",
   "execution_count": 40,
   "metadata": {},
   "outputs": [
    {
     "name": "stdout",
     "output_type": "stream",
     "text": [
      "[[1 4]\n",
      " [1 1]]\n"
     ]
    }
   ],
   "source": [
    "#Найдите собственные значения и собственные вектора матрицы (на python и на бумаге):\n",
    "m = np.array([[1, 4],\n",
    "              [1, 1]])\n",
    "print(m)"
   ]
  },
  {
   "cell_type": "code",
   "execution_count": 41,
   "metadata": {},
   "outputs": [
    {
     "data": {
      "text/plain": [
       "array([0., 2.])"
      ]
     },
     "execution_count": 41,
     "metadata": {},
     "output_type": "execute_result"
    }
   ],
   "source": [
    "wm, vm = LA.eigh(m)\n",
    "wm"
   ]
  },
  {
   "cell_type": "code",
   "execution_count": 42,
   "metadata": {},
   "outputs": [
    {
     "data": {
      "text/plain": [
       "array([[-0.70710678,  0.70710678],\n",
       "       [ 0.70710678,  0.70710678]])"
      ]
     },
     "execution_count": 42,
     "metadata": {},
     "output_type": "execute_result"
    }
   ],
   "source": [
    "vm"
   ]
  },
  {
   "cell_type": "code",
   "execution_count": 43,
   "metadata": {},
   "outputs": [
    {
     "data": {
      "text/plain": [
       "array([[2.12132034, 2.12132034],\n",
       "       [0.        , 0.        ]])"
      ]
     },
     "execution_count": 43,
     "metadata": {},
     "output_type": "execute_result"
    }
   ],
   "source": [
    "np.dot(m, vm) - wm*vm"
   ]
  },
  {
   "cell_type": "markdown",
   "metadata": {},
   "source": [
    "# решение на листе\n",
    "(-λ+1)*(-λ+1)-4*1=λ^2-2*λ-3\n",
    "D=(-2)^2 - 4*1*(-3)=16\n",
    "λ_1=-1\n",
    "λ_2=3\n",
    "#Для каждого λ найти его собственные вектора\n",
    "λ_1=-1\n",
    "A-λ_1*E=({{2, 4}, {1, 2}})\n",
    "(A-λ*E)*v=0\n",
    "\n",
    "*(1/2)\n",
    "~({{1, 2, 0}, {1, 2, 0}})\n",
    "*(-1)\n",
    "~({{1, 2, 0}, {0, 0, 0}})\n",
    "\n",
    "#ответ x_1=-2*x_2\n",
    "\n",
    "λ_2=3\n",
    "A-λ_2*E=({{-2, 4}, {1, -2}})\n",
    "\n",
    "*((-1)/2)\n",
    "~[L_1/(-2)->L_1]~({{1, -2, 0}, {1, -2, 0}})\n",
    "*(-1)\n",
    "~[L_2-1*L_1->L_2]~({{1, -2, 0}, {0, 0, 0}})\n",
    "#ответ x_1=2*x_2"
   ]
  },
  {
   "cell_type": "code",
   "execution_count": null,
   "metadata": {},
   "outputs": [],
   "source": []
  }
 ],
 "metadata": {
  "kernelspec": {
   "display_name": "Python 3",
   "language": "python",
   "name": "python3"
  },
  "language_info": {
   "codemirror_mode": {
    "name": "ipython",
    "version": 3
   },
   "file_extension": ".py",
   "mimetype": "text/x-python",
   "name": "python",
   "nbconvert_exporter": "python",
   "pygments_lexer": "ipython3",
   "version": "3.8.5"
  }
 },
 "nbformat": 4,
 "nbformat_minor": 4
}
