{
 "cells": [
  {
   "cell_type": "code",
   "execution_count": 2,
   "metadata": {},
   "outputs": [],
   "source": [
    "import numpy as np\n",
    "import pandas as pd\n",
    "from sympy import *\n",
    "from scipy.misc import derivative\n",
    "import matplotlib.pyplot as plt\n",
    "import math \n",
    "from math import sqrt\n",
    "from numpy import linalg as LA\n",
    "from numpy.random import randint\n",
    "from sklearn.metrics.pairwise import pairwise_distances\n",
    "from scipy.optimize import minimize\n",
    "from scipy.optimize import differential_evolution\n",
    "from sklearn.decomposition import PCA\n",
    "from sklearn.decomposition import TruncatedSVD\n",
    "from tqdm import tqdm_notebook as tqdm\n"
   ]
  },
  {
   "cell_type": "markdown",
   "metadata": {},
   "source": [
    "# 1"
   ]
  },
  {
   "cell_type": "code",
   "execution_count": 3,
   "metadata": {},
   "outputs": [],
   "source": [
    "\n",
    "raitings = np.array([[ 4,  4,  9,  4,  1,  6, 10,  7,  9,  6,  9,  2,  8,  6,  6],\n",
    "                     [ 9,  2,  5, 10,  7,  8, 10,  5,  6,  2,  1,  6,  8,  9,  7],\n",
    "                     [ 1,  6,  8,  8,  4,  9,  3,  8, 10,  5,  2,  6,  8,  1,  6],\n",
    "                     [ 6,  1,  9,  7,  7,  9,  2,  3,  5,  1,  6,  6,  3,  2,  7],\n",
    "                     [ 3,  7,  3,  5,  7,  9,  9,  6,  2,  9,  1,  2,  8, 10,  6],\n",
    "                     [ 8,  3,  7,  3,  8,  6,  1,  8,  8,  6,  1,  9,  4, 10,  1],\n",
    "                     [ 9,  8,  4,  8,  8, 10,  6,  1,  1,  2,  9,  5,  2,  7,  2],\n",
    "                     [ 4,  1,  6,  4,  3, 10,  4,  4,  2,  8,  7,  9,  3,  8,  3],\n",
    "                     [ 2,  7,  7,  6, 10,  6,  8,  9,  8,  6, 10,  1,  7, 10,  4],\n",
    "                     [ 5, 10,  8,  8,  9,  7,  2,  9,  9, 10,  8,  8,  8,  6, 10]])\n"
   ]
  },
  {
   "cell_type": "code",
   "execution_count": 4,
   "metadata": {},
   "outputs": [],
   "source": [
    "X=raitings"
   ]
  },
  {
   "cell_type": "code",
   "execution_count": 5,
   "metadata": {},
   "outputs": [
    {
     "name": "stdout",
     "output_type": "stream",
     "text": [
      "pairwise dense output:\n",
      " [[1.         0.82602919 0.84921529 0.78340116 0.81917632 0.74118548\n",
      "  0.72735828 0.80967522 0.91065982 0.86010776]\n",
      " [0.82602919 1.         0.81234325 0.84635337 0.87138052 0.82713107\n",
      "  0.82629684 0.80026003 0.82526308 0.81968127]\n",
      " [0.84921529 0.81234325 1.         0.84669374 0.78394299 0.79097985\n",
      "  0.67616223 0.76289552 0.82112077 0.91873051]\n",
      " [0.78340116 0.84635337 0.84669374 1.         0.69153409 0.78665792\n",
      "  0.83274211 0.82934667 0.7770666  0.8588687 ]\n",
      " [0.81917632 0.87138052 0.78394299 0.69153409 1.         0.7764434\n",
      "  0.78200468 0.81236869 0.87948477 0.84574789]\n",
      " [0.74118548 0.82713107 0.79097985 0.78665792 0.7764434  1.\n",
      "  0.74011801 0.84451685 0.80622876 0.85514908]\n",
      " [0.72735828 0.82629684 0.67616223 0.83274211 0.78200468 0.74011801\n",
      "  1.         0.82669174 0.81130044 0.79154718]\n",
      " [0.80967522 0.80026003 0.76289552 0.82934667 0.81236869 0.84451685\n",
      "  0.82669174 1.         0.7981276  0.83682229]\n",
      " [0.91065982 0.82526308 0.82112077 0.7770666  0.87948477 0.80622876\n",
      "  0.81130044 0.7981276  1.         0.90093797]\n",
      " [0.86010776 0.81968127 0.91873051 0.8588687  0.84574789 0.85514908\n",
      "  0.79154718 0.83682229 0.90093797 1.        ]]\n",
      "\n",
      "pairwise sparse output:\n",
      "   (0, 9)\t0.8601077572660834\n",
      "  (0, 8)\t0.9106598233573044\n",
      "  (0, 7)\t0.8096752188740592\n",
      "  (0, 6)\t0.7273582830552573\n",
      "  (0, 5)\t0.7411854787309532\n",
      "  (0, 4)\t0.8191763207928604\n",
      "  (0, 3)\t0.7834011593236074\n",
      "  (0, 2)\t0.8492152913329326\n",
      "  (0, 1)\t0.8260291914926012\n",
      "  (0, 0)\t1.0000000000000002\n",
      "  (1, 9)\t0.8196812673341947\n",
      "  (1, 8)\t0.8252630791081778\n",
      "  (1, 7)\t0.8002600269984131\n",
      "  (1, 6)\t0.8262968404756842\n",
      "  (1, 5)\t0.8271310743150352\n",
      "  (1, 4)\t0.8713805223930228\n",
      "  (1, 3)\t0.8463533715492266\n",
      "  (1, 2)\t0.8123432494307796\n",
      "  (1, 1)\t0.9999999999999998\n",
      "  (1, 0)\t0.8260291914926012\n",
      "  (2, 9)\t0.9187305147356807\n",
      "  (2, 8)\t0.8211207737697992\n",
      "  (2, 7)\t0.7628955209443427\n",
      "  (2, 6)\t0.6761622283340306\n",
      "  (2, 5)\t0.7909798532223777\n",
      "  :\t:\n",
      "  (7, 4)\t0.8123686946684675\n",
      "  (7, 3)\t0.8293466659451719\n",
      "  (7, 2)\t0.7628955209443427\n",
      "  (7, 1)\t0.8002600269984131\n",
      "  (7, 0)\t0.8096752188740592\n",
      "  (8, 9)\t0.9009379748686902\n",
      "  (8, 8)\t0.9999999999999999\n",
      "  (8, 7)\t0.7981276021475278\n",
      "  (8, 6)\t0.8113004443944629\n",
      "  (8, 5)\t0.8062287623333155\n",
      "  (8, 4)\t0.8794847716076251\n",
      "  (8, 3)\t0.7770665979363705\n",
      "  (8, 2)\t0.8211207737697992\n",
      "  (8, 1)\t0.8252630791081778\n",
      "  (8, 0)\t0.9106598233573044\n",
      "  (9, 9)\t0.9999999999999998\n",
      "  (9, 8)\t0.9009379748686902\n",
      "  (9, 7)\t0.8368222940470545\n",
      "  (9, 6)\t0.7915471832639057\n",
      "  (9, 5)\t0.8551490764118892\n",
      "  (9, 4)\t0.845747891662536\n",
      "  (9, 3)\t0.8588686958710949\n",
      "  (9, 2)\t0.9187305147356807\n",
      "  (9, 1)\t0.8196812673341947\n",
      "  (9, 0)\t0.8601077572660834\n",
      "\n"
     ]
    }
   ],
   "source": [
    "from sklearn.metrics.pairwise import cosine_similarity\n",
    "from scipy import sparse\n",
    "raitings_sparse = sparse.csr_matrix(raitings)\n",
    "\n",
    "similarities = cosine_similarity(raitings_sparse)\n",
    "print('pairwise dense output:\\n {}\\n'.format(similarities))\n",
    "\n",
    "#also can output sparse matrices\n",
    "similarities_sparse = cosine_similarity(raitings_sparse,dense_output=False)\n",
    "print('pairwise sparse output:\\n {}\\n'.format(similarities_sparse))"
   ]
  },
  {
   "cell_type": "code",
   "execution_count": 6,
   "metadata": {},
   "outputs": [
    {
     "data": {
      "text/plain": [
       "array([[-5.30986101,  1.92919845, -4.93300027,  2.70188013,  5.50497886],\n",
       "       [ 2.87763403,  2.71659559,  1.40592782,  7.26325751, -4.50322291],\n",
       "       [-4.94010408, -6.68861167, -0.94550184,  3.61556661, -0.68969272],\n",
       "       [ 5.14939908, -6.28027284, -4.65978558,  1.09024004, -1.01471112],\n",
       "       [-1.37488691,  7.54357985,  4.00834369,  2.1284001 , -0.16324949],\n",
       "       [ 2.65341956, -3.77075601,  8.58430748, -1.46628319,  1.67401769],\n",
       "       [ 8.61573944,  3.78603335, -4.02721027, -4.37582577, -3.13880277],\n",
       "       [ 5.39658258, -1.0170466 ,  1.01456742, -1.89512837,  6.54883538],\n",
       "       [-5.7843488 ,  5.29857107, -1.48083611, -3.71295542,  0.21312695],\n",
       "       [-7.2835739 , -3.51729118,  1.03318766, -5.34915166, -4.43127987]])"
      ]
     },
     "execution_count": 6,
     "metadata": {},
     "output_type": "execute_result"
    }
   ],
   "source": [
    "#B сжать признаковые описания пользователя с 15 фильмов, до, скажем, 5-ти признаков, как вы это сделаете\n",
    "pca = PCA(n_components=5)\n",
    "pca.fit_transform(X)"
   ]
  },
  {
   "cell_type": "code",
   "execution_count": 7,
   "metadata": {
    "scrolled": true
   },
   "outputs": [
    {
     "name": "stdout",
     "output_type": "stream",
     "text": [
      "[0.25373748 0.1970209  0.14113306 0.12956371 0.11289928]\n"
     ]
    }
   ],
   "source": [
    "print(pca.explained_variance_ratio_)"
   ]
  },
  {
   "cell_type": "code",
   "execution_count": 8,
   "metadata": {},
   "outputs": [
    {
     "name": "stdout",
     "output_type": "stream",
     "text": [
      "[16.91716582 14.90704109 12.61681323 12.08862725 11.28446283]\n"
     ]
    }
   ],
   "source": [
    "print(pca.singular_values_)"
   ]
  },
  {
   "cell_type": "code",
   "execution_count": 9,
   "metadata": {},
   "outputs": [
    {
     "data": {
      "text/plain": [
       "TruncatedSVD(n_components=5, n_iter=3, random_state=42)"
      ]
     },
     "execution_count": 9,
     "metadata": {},
     "output_type": "execute_result"
    }
   ],
   "source": [
    "X = raitings\n",
    "svd = TruncatedSVD(n_components=5, n_iter=3, random_state=42)\n",
    "svd.fit(X)"
   ]
  },
  {
   "cell_type": "code",
   "execution_count": 10,
   "metadata": {},
   "outputs": [
    {
     "name": "stdout",
     "output_type": "stream",
     "text": [
      "[0.07951819 0.22322522 0.19305559 0.14061375 0.12711606]\n"
     ]
    }
   ],
   "source": [
    "print(svd.explained_variance_ratio_)"
   ]
  },
  {
   "cell_type": "code",
   "execution_count": 11,
   "metadata": {},
   "outputs": [
    {
     "name": "stdout",
     "output_type": "stream",
     "text": [
      "0.7635288023599804\n"
     ]
    }
   ],
   "source": [
    "print(svd.explained_variance_ratio_.sum())"
   ]
  },
  {
   "cell_type": "code",
   "execution_count": 12,
   "metadata": {},
   "outputs": [
    {
     "name": "stdout",
     "output_type": "stream",
     "text": [
      "[73.97894988 15.90026986 14.76407467 12.59396914 11.97537142]\n"
     ]
    }
   ],
   "source": [
    "print(svd.singular_values_)"
   ]
  },
  {
   "cell_type": "markdown",
   "metadata": {},
   "source": [
    "# 2"
   ]
  },
  {
   "cell_type": "code",
   "execution_count": 13,
   "metadata": {},
   "outputs": [
    {
     "data": {
      "text/latex": [
       "$\\displaystyle 55.3859176433136$"
      ],
      "text/plain": [
       "55.3859176433136"
      ]
     },
     "execution_count": 13,
     "metadata": {},
     "output_type": "execute_result"
    }
   ],
   "source": [
    "#Вычислите производную tg^2(sin(x) + cos(2x+3)) в точке x=1 (на python и на бумаге).\n",
    "def f(x):\n",
    "    return tan (sin (x) + cos (2 * x + 3)) ** 2 \n",
    "derivative(f, 1.0, dx=1e-6)\n"
   ]
  },
  {
   "cell_type": "code",
   "execution_count": 14,
   "metadata": {},
   "outputs": [
    {
     "name": "stdout",
     "output_type": "stream",
     "text": [
      "tan(cos(5) + sin(1))**2\n"
     ]
    }
   ],
   "source": [
    "# import sympy\n",
    "from sympy import *\n",
    "  \n",
    "# Use sympy.symbols() method\n",
    "x, y = symbols('x y')\n",
    "x = 1\n",
    "gfg = tan (sin (x) + cos (2 * x + 3)) ** 2 \n",
    "  \n",
    "print(gfg)"
   ]
  },
  {
   "cell_type": "code",
   "execution_count": 15,
   "metadata": {},
   "outputs": [
    {
     "data": {
      "text/latex": [
       "$\\displaystyle 2 \\left(- 2 \\sin{\\left(2 x + 3 \\right)} + \\cos{\\left(x \\right)}\\right) \\left(\\tan^{2}{\\left(\\sin{\\left(x \\right)} + \\cos{\\left(2 x + 3 \\right)} \\right)} + 1\\right) \\tan{\\left(\\sin{\\left(x \\right)} + \\cos{\\left(2 x + 3 \\right)} \\right)}$"
      ],
      "text/plain": [
       "2*(-2*sin(2*x + 3) + cos(x))*(tan(sin(x) + cos(2*x + 3))**2 + 1)*tan(sin(x) + cos(2*x + 3))"
      ]
     },
     "execution_count": 15,
     "metadata": {},
     "output_type": "execute_result"
    }
   ],
   "source": [
    "x = Symbol('x')\n",
    "\n",
    "\n",
    "f = tan (sin (x) + cos (2 * x + 3)) ** 2\n",
    " \n",
    "derivative_f =f.diff(x)\n",
    "derivative_f"
   ]
  },
  {
   "cell_type": "code",
   "execution_count": 16,
   "metadata": {},
   "outputs": [
    {
     "name": "stdout",
     "output_type": "stream",
     "text": [
      "tan(sin(x) + cos(2*x + 3))**2\n"
     ]
    }
   ],
   "source": [
    "expn = tan (sin (x) + cos (2 * x + 3)) ** 2 \n",
    "\n",
    "gfg = expn.evalf()\n",
    "print(gfg)"
   ]
  },
  {
   "cell_type": "code",
   "execution_count": 17,
   "metadata": {},
   "outputs": [
    {
     "data": {
      "text/plain": [
       "array([4.89069277e+01, 6.32474019e+00, 5.09608116e+00, 1.52295318e+01,\n",
       "       1.03002494e+02, 2.29748132e+00, 2.12155406e-01, 1.51617092e-02,\n",
       "       4.78931712e-01, 2.05132869e+00, 5.17365442e+00, 6.03267225e+00,\n",
       "       3.23611544e+00, 1.22670215e+00, 3.92281901e-01, 9.16850807e-02,\n",
       "       9.03222746e-03, 1.13712903e-06, 8.94373804e-04, 3.05231655e-02,\n",
       "       1.77032884e-01, 5.91751523e-01, 1.49866935e+00, 2.77846377e+00,\n",
       "       2.93862895e+00, 1.56332656e+00, 4.48128448e-01, 2.27517552e-02,\n",
       "       1.54992251e-01, 1.71493848e+00, 3.74695873e+01, 2.25676459e+01,\n",
       "       5.47547054e+00, 5.64080110e+00, 2.68152462e+01, 2.65087391e+01,\n",
       "       1.42245621e+00, 1.03539992e-01, 5.64103800e-02, 6.89809439e-01,\n",
       "       2.61366659e+00, 5.76635095e+00, 5.56308321e+00, 2.67905798e+00,\n",
       "       9.77420636e-01, 2.98713433e-01, 6.22638678e-02, 4.24759602e-03,\n",
       "       1.00002537e-05, 2.65462077e-03])"
      ]
     },
     "execution_count": 17,
     "metadata": {},
     "output_type": "execute_result"
    }
   ],
   "source": [
    "import sympy as sym\n",
    "\n",
    "x = sym.symbols(\"x\")\n",
    "x_values = np.linspace(-5, 5)\n",
    "\n",
    "function = sym.lambdify(x, tan (sin (x) + cos (2 * x + 3)) ** 2, \"numpy\")\n",
    "function(x_values)"
   ]
  },
  {
   "cell_type": "code",
   "execution_count": 18,
   "metadata": {},
   "outputs": [
    {
     "data": {
      "text/plain": [
       "<sympy.plotting.plot.Plot at 0x1addf9b90a0>"
      ]
     },
     "execution_count": 18,
     "metadata": {},
     "output_type": "execute_result"
    }
   ],
   "source": [
    "from sympy import symbols\n",
    "from sympy.plotting import plot\n",
    "x = symbols('x')\n",
    "p1 = plot(10 * sin(2 * 𝑥 + 1) ** 4 * cos(2 * 𝑥 + 1), show=False)\n",
    "p2 = plot(x, show=False)\n",
    "p1.extend(p2)\n",
    "p1"
   ]
  },
  {
   "cell_type": "code",
   "execution_count": 19,
   "metadata": {},
   "outputs": [
    {
     "data": {
      "image/png": "[encoded data removed]",
      "text/plain": [
       "<Figure size 432x288 with 1 Axes>"
      ]
     },
     "metadata": {
      "needs_background": "light"
     },
     "output_type": "display_data"
    }
   ],
   "source": [
    "p1.show()"
   ]
  },
  {
   "cell_type": "markdown",
   "metadata": {},
   "source": [
    "#Решение на бумаге\n",
    "\n",
    "f(x)= (tg(sin(x)+cos(2x + 3))) ^ 2\n",
    "(tg(sin(x) + cos (2x + 3)) ^ 2)՚ = 2 (tg (sin(x) +cos (2x + 3))) ^ 2-1\n",
    "((tg(sin(x) + cos (2x + 3)))՚ = 2 (- 2 sin⁡(2x + 3) + cos⁡(x))/(cos⁡(sin⁡(X)+cos⁡(2x+3))  \n",
    "((tg(sin(x) + cos (2x + 3)))՚ (sin(x) + cos(2x + 3))՚ = (-2*sin⁡(2x+3)+cos⁡(x))/(cos⁡(sin⁡(X)+cos⁡(2x+3)) ^ 2)\n",
    "(sin(x) + cos(2*x +3))՚ = (cos(2x +3))՚ + (sin(X))՚ = (-2 * sin(2x +3)) + cos(x) = -2 * sin(2*x + 3) +cos(x)\n",
    "cos(2x +3))՚ = (cos(2x+3))՚ * (2x+3)՚ = -2*sin(2x+3)\n",
    "sin(2x+3)՚ = 2\n",
    "\n",
    "#Ответ\n",
    "   \n",
    "2(-2 sin⁡(2x + 3) + cos⁡(x))/(cos⁡(sin⁡(X)+cos⁡(2x+3))                              \n",
    "                                "
   ]
  },
  {
   "cell_type": "markdown",
   "metadata": {},
   "source": [
    "# 3"
   ]
  },
  {
   "cell_type": "code",
   "execution_count": 20,
   "metadata": {},
   "outputs": [],
   "source": [
    "def f(x, a, b):\n",
    "    return np.e**a * np.sin(b*x) + x"
   ]
  },
  {
   "cell_type": "code",
   "execution_count": 21,
   "metadata": {},
   "outputs": [],
   "source": [
    "x = np.array([0.        , 0.26315789, 0.52631579, 0.78947368, 1.05263158,\n",
    "              1.31578947, 1.57894737, 1.84210526, 2.10526316, 2.36842105,\n",
    "              2.63157895, 2.89473684, 3.15789474, 3.42105263, 3.68421053,\n",
    "              3.94736842, 4.21052632, 4.47368421, 4.73684211, 5.        ])"
   ]
  },
  {
   "cell_type": "code",
   "execution_count": 22,
   "metadata": {},
   "outputs": [],
   "source": [
    "fx = np.array([  0.        , -12.01819092, -18.90968634, -17.68786571,\n",
    "                -8.7529108 ,   4.27524517,  16.06801336,  21.81250213,\n",
    "                19.22059845,   9.48411207,  -3.22273056, -13.48576488,\n",
    "               -16.91096359, -11.95866834,  -0.58630088,  12.56873816,\n",
    "                22.12489421,  24.20292139,  18.04522521,   6.33211092])"
   ]
  },
  {
   "cell_type": "code",
   "execution_count": 23,
   "metadata": {},
   "outputs": [
    {
     "data": {
      "image/png": "[encoded data removed]",
      "text/plain": [
       "<Figure size 432x288 with 1 Axes>"
      ]
     },
     "metadata": {
      "needs_background": "light"
     },
     "output_type": "display_data"
    }
   ],
   "source": [
    "plt.plot(x, fx)\n",
    "plt.show()"
   ]
  },
  {
   "cell_type": "code",
   "execution_count": 24,
   "metadata": {},
   "outputs": [],
   "source": [
    "def error(params):\n",
    "    return np.sum(np.abs(fx - f(x, params[0], params[1])))"
   ]
  },
  {
   "cell_type": "code",
   "execution_count": 25,
   "metadata": {},
   "outputs": [
    {
     "name": "stderr",
     "output_type": "stream",
     "text": [
      "C:\\Users\\kozlo\\anaconda3\\lib\\site-packages\\scipy\\optimize\\_minimize.py:623: OptimizeWarning: Unknown solver options: xtol\n",
      "  return _minimize_cobyla(fun, x0, args, constraints, **options)\n"
     ]
    },
    {
     "data": {
      "text/plain": [
       "     fun: 242.84016777994267\n",
       "   maxcv: 0.0\n",
       " message: 'Optimization terminated successfully.'\n",
       "    nfev: 35\n",
       "  status: 1\n",
       " success: True\n",
       "       x: array([2.08279338, 5.05970416])"
      ]
     },
     "execution_count": 25,
     "metadata": {},
     "output_type": "execute_result"
    }
   ],
   "source": [
    "res = minimize (error, [2, 5], method = 'COBYLA', options={'xtol': 1e-6, 'disp': True})\n",
    "res"
   ]
  },
  {
   "cell_type": "code",
   "execution_count": 26,
   "metadata": {},
   "outputs": [
    {
     "name": "stdout",
     "output_type": "stream",
     "text": [
      "differential_evolution step 1: f(x)= 187.393\n",
      "differential_evolution step 2: f(x)= 187.393\n",
      "differential_evolution step 3: f(x)= 126.749\n",
      "differential_evolution step 4: f(x)= 126.749\n",
      "differential_evolution step 5: f(x)= 124.263\n",
      "differential_evolution step 6: f(x)= 85.0998\n",
      "differential_evolution step 7: f(x)= 85.0998\n",
      "differential_evolution step 8: f(x)= 64.2382\n",
      "differential_evolution step 9: f(x)= 47.2581\n",
      "differential_evolution step 10: f(x)= 46.2682\n",
      "differential_evolution step 11: f(x)= 15.5326\n",
      "differential_evolution step 12: f(x)= 15.5326\n",
      "differential_evolution step 13: f(x)= 5.24974\n",
      "differential_evolution step 14: f(x)= 4.05442\n",
      "differential_evolution step 15: f(x)= 4.05442\n",
      "differential_evolution step 16: f(x)= 3.33836\n",
      "differential_evolution step 17: f(x)= 3.33836\n",
      "differential_evolution step 18: f(x)= 1.16735\n",
      "differential_evolution step 19: f(x)= 1.16735\n",
      "differential_evolution step 20: f(x)= 0.214829\n",
      "differential_evolution step 21: f(x)= 0.214829\n",
      "differential_evolution step 22: f(x)= 0.190146\n",
      "differential_evolution step 23: f(x)= 0.188705\n",
      "differential_evolution step 24: f(x)= 0.0396577\n",
      "differential_evolution step 25: f(x)= 0.0378831\n",
      "differential_evolution step 26: f(x)= 0.0378831\n",
      "differential_evolution step 27: f(x)= 0.0378831\n",
      "differential_evolution step 28: f(x)= 0.0195996\n",
      "differential_evolution step 29: f(x)= 0.0195996\n",
      "differential_evolution step 30: f(x)= 0.00595501\n",
      "differential_evolution step 31: f(x)= 0.00117653\n",
      "differential_evolution step 32: f(x)= 0.00117653\n",
      "differential_evolution step 33: f(x)= 0.00117653\n",
      "differential_evolution step 34: f(x)= 0.000818308\n",
      "differential_evolution step 35: f(x)= 0.000818308\n",
      "differential_evolution step 36: f(x)= 0.000462707\n",
      "differential_evolution step 37: f(x)= 0.000160597\n",
      "differential_evolution step 38: f(x)= 0.000160597\n",
      "differential_evolution step 39: f(x)= 9.13125e-05\n",
      "differential_evolution step 40: f(x)= 9.13125e-05\n",
      "differential_evolution step 41: f(x)= 9.13125e-05\n",
      "differential_evolution step 42: f(x)= 9.13125e-05\n",
      "differential_evolution step 43: f(x)= 3.54863e-05\n",
      "differential_evolution step 44: f(x)= 1.56683e-06\n",
      "differential_evolution step 45: f(x)= 1.56683e-06\n",
      "differential_evolution step 46: f(x)= 1.56683e-06\n",
      "differential_evolution step 47: f(x)= 1.56683e-06\n",
      "differential_evolution step 48: f(x)= 1.56683e-06\n",
      "differential_evolution step 49: f(x)= 1.56683e-06\n",
      "differential_evolution step 50: f(x)= 1.56683e-06\n",
      "differential_evolution step 51: f(x)= 1.56683e-06\n",
      "differential_evolution step 52: f(x)= 1.53342e-06\n",
      "differential_evolution step 53: f(x)= 1.53342e-06\n",
      "differential_evolution step 54: f(x)= 1.53342e-06\n",
      "differential_evolution step 55: f(x)= 1.53342e-06\n",
      "differential_evolution step 56: f(x)= 1.5239e-06\n",
      "differential_evolution step 57: f(x)= 1.52003e-06\n",
      "differential_evolution step 58: f(x)= 1.51374e-06\n",
      "differential_evolution step 59: f(x)= 1.51374e-06\n"
     ]
    },
    {
     "data": {
      "text/plain": [
       "     fun: 1.513739900538269e-06\n",
       " message: 'Optimization terminated successfully.'\n",
       "    nfev: 1863\n",
       "     nit: 59\n",
       " success: True\n",
       "       x: array([ 3. , -2.5])"
      ]
     },
     "execution_count": 26,
     "metadata": {},
     "output_type": "execute_result"
    }
   ],
   "source": [
    "res = differential_evolution(error, [(-5, 5), (-5, 5)], disp=True)\n",
    "res"
   ]
  },
  {
   "cell_type": "markdown",
   "metadata": {},
   "source": [
    "# 4"
   ]
  },
  {
   "cell_type": "code",
   "execution_count": 27,
   "metadata": {},
   "outputs": [
    {
     "data": {
      "text/plain": [
       "array([71,  0, 72, 20, 48, 33, 65, 24, 71, 11, 18, 33, 45, 29, 70, 29, 12,\n",
       "       71, 16, 18])"
      ]
     },
     "execution_count": 27,
     "metadata": {},
     "output_type": "execute_result"
    }
   ],
   "source": [
    "#Создайте собственную дискретную случайную величину с 20 значениями\n",
    "a = np.random.randint(77, size = 20)\n",
    "a"
   ]
  },
  {
   "cell_type": "code",
   "execution_count": 28,
   "metadata": {},
   "outputs": [
    {
     "data": {
      "image/png": "[encoded data removed]",
      "text/plain": [
       "<Figure size 432x288 with 1 Axes>"
      ]
     },
     "metadata": {
      "needs_background": "light"
     },
     "output_type": "display_data"
    }
   ],
   "source": [
    "#Создайте собственную дискретную случайную величину с 20 значениями\n",
    "plt.hist(randint(1, 70,20),69)\n",
    "plt.show()"
   ]
  },
  {
   "cell_type": "code",
   "execution_count": 29,
   "metadata": {},
   "outputs": [
    {
     "data": {
      "image/png": "[encoded data removed]",
      "text/plain": [
       "<Figure size 432x288 with 1 Axes>"
      ]
     },
     "metadata": {
      "needs_background": "light"
     },
     "output_type": "display_data"
    }
   ],
   "source": [
    "#Сгенерируйте 1000 выборок размера 50\n",
    "#Посчитайте среднее для каждой выборки\n",
    "sampleMeans = []\n",
    "\n",
    "for _ in range(50):\n",
    "    sampleMean = sum(randint(1, 70, 20))\n",
    "    sampleMeans.append(sampleMean)\n",
    "    \n",
    "plt.hist(sampleMeans, 1000)\n",
    "plt.show()                     "
   ]
  },
  {
   "cell_type": "markdown",
   "metadata": {},
   "source": [
    "# 5"
   ]
  },
  {
   "cell_type": "code",
   "execution_count": 30,
   "metadata": {},
   "outputs": [
    {
     "name": "stdout",
     "output_type": "stream",
     "text": [
      "[[1 4]\n",
      " [1 1]]\n"
     ]
    }
   ],
   "source": [
    "#Найдите собственные значения и собственные вектора матрицы (на python и на бумаге):\n",
    "m = np.array([[1, 4],\n",
    "              [1, 1]])\n",
    "print(m)"
   ]
  },
  {
   "cell_type": "code",
   "execution_count": 31,
   "metadata": {},
   "outputs": [
    {
     "data": {
      "text/plain": [
       "array([ 3., -1.])"
      ]
     },
     "execution_count": 31,
     "metadata": {},
     "output_type": "execute_result"
    }
   ],
   "source": [
    "wm, vm = LA.eig(m)\n",
    "wm"
   ]
  },
  {
   "cell_type": "code",
   "execution_count": 32,
   "metadata": {},
   "outputs": [
    {
     "data": {
      "text/plain": [
       "array([[ 0.89442719, -0.89442719],\n",
       "       [ 0.4472136 ,  0.4472136 ]])"
      ]
     },
     "execution_count": 32,
     "metadata": {},
     "output_type": "execute_result"
    }
   ],
   "source": [
    "vm"
   ]
  },
  {
   "cell_type": "code",
   "execution_count": 33,
   "metadata": {},
   "outputs": [
    {
     "data": {
      "text/plain": [
       "array([[-8.88178420e-16,  1.11022302e-15],\n",
       "       [ 2.22044605e-16,  1.11022302e-16]])"
      ]
     },
     "execution_count": 33,
     "metadata": {},
     "output_type": "execute_result"
    }
   ],
   "source": [
    "np.dot(m, vm) - wm*vm"
   ]
  },
  {
   "cell_type": "markdown",
   "metadata": {},
   "source": [
    "# решение на листе\n",
    "(-λ+1)*(-λ+1)-4*1=λ^2-2*λ-3\n",
    "D=(-2)^2 - 4*1*(-3)=16\n",
    "λ_1=-1\n",
    "λ_2=3\n",
    "#Для каждого λ найти его собственные вектора\n",
    "λ_1=-1\n",
    "A-λ_1*E=({{2, 4}, {1, 2}})\n",
    "(A-λ*E)*v=0\n",
    "\n",
    "*(1/2)\n",
    "~({{1, 2, 0}, {1, 2, 0}})\n",
    "*(-1)\n",
    "~({{1, 2, 0}, {0, 0, 0}})\n",
    "\n",
    "#ответ x_1=-2*x_2\n",
    "\n",
    "λ_2=3\n",
    "A-λ_2*E=({{-2, 4}, {1, -2}})\n",
    "\n",
    "*((-1)/2)\n",
    "({{1, -2, 0}, {1, -2, 0}})\n",
    "*(-1)\n",
    "({{1, -2, 0}, {0, 0, 0}})\n",
    "#ответ x_1=2*x_2"
   ]
  }
 ],
 "metadata": {
  "kernelspec": {
   "display_name": "Python 3",
   "language": "python",
   "name": "python3"
  },
  "language_info": {
   "codemirror_mode": {
    "name": "ipython",
    "version": 3
   },
   "file_extension": ".py",
   "mimetype": "text/x-python",
   "name": "python",
   "nbconvert_exporter": "python",
   "pygments_lexer": "ipython3",
   "version": "3.8.5"
  }
 },
 "nbformat": 4,
 "nbformat_minor": 4
}
