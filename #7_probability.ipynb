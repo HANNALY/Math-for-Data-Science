{
 "cells": [
  {
   "cell_type": "markdown",
   "metadata": {},
   "source": [
    "# Уровень 0"
   ]
  },
  {
   "cell_type": "code",
   "execution_count": 8,
   "metadata": {},
   "outputs": [],
   "source": [
    "import pandas as pd\n",
    "import numpy as np \n",
    "from scipy.stats import *\n",
    "import seaborn as sb\n",
    "import math\n",
    "from scipy import stats\n",
    "import matplotlib.pyplot as plt"
   ]
  },
  {
   "cell_type": "code",
   "execution_count": 21,
   "metadata": {},
   "outputs": [],
   "source": [
    "from math import factorial\n",
    "def num_of_successes(n, k):\n",
    "    return factorial(n)/(factorial(k) * factorial(n - k))\n",
    "\n",
    "def probability_of_success(p, n, k):\n",
    "    C_kn = num_of_successes(n, k)\n",
    "    return C_kn * (p**k) * (1 - p)**(n - k)"
   ]
  },
  {
   "cell_type": "code",
   "execution_count": 31,
   "metadata": {},
   "outputs": [
    {
     "data": {
      "text/plain": [
       "0.152740478515625"
      ]
     },
     "execution_count": 31,
     "metadata": {},
     "output_type": "execute_result"
    }
   ],
   "source": [
    "#Монетку подбрасывают 15 раз, найдите вероятность выпадения простого числа орлов\n",
    "probability_of_success(p=0.5, n=15, k=9)"
   ]
  },
  {
   "cell_type": "code",
   "execution_count": 23,
   "metadata": {},
   "outputs": [
    {
     "name": "stdout",
     "output_type": "stream",
     "text": [
      "1307674368000\n",
      "362880\n",
      "720\n"
     ]
    }
   ],
   "source": [
    "\n",
    "n = 15\n",
    "k = 9\n",
    "z = 6 #n-k = 15 - 9 = 6\n",
    "print(math.factorial(n))\n",
    "print(math.factorial(k))\n",
    "print(math.factorial(z))\n"
   ]
  },
  {
   "cell_type": "code",
   "execution_count": 24,
   "metadata": {},
   "outputs": [
    {
     "data": {
      "text/plain": [
       "2594592000.0"
      ]
     },
     "execution_count": 24,
     "metadata": {},
     "output_type": "execute_result"
    }
   ],
   "source": [
    "#число «удачных» комбинаций исходов испытаний, для которых событие A наступает k раз в n независимых испытаниях\n",
    "1307674368000 / 362880 * 720"
   ]
  },
  {
   "cell_type": "markdown",
   "metadata": {},
   "source": [
    "# Уровень 2"
   ]
  },
  {
   "cell_type": "code",
   "execution_count": 40,
   "metadata": {},
   "outputs": [
    {
     "data": {
      "text/plain": [
       "(array([0.18823529, 0.        , 0.        , 0.        , 0.        ,\n",
       "        0.09411765, 0.        , 0.        , 0.09411765, 0.09411765,\n",
       "        0.        , 0.18823529, 0.        , 0.        , 0.09411765,\n",
       "        0.18823529]),\n",
       " array([ 2.    ,  3.0625,  4.125 ,  5.1875,  6.25  ,  7.3125,  8.375 ,\n",
       "         9.4375, 10.5   , 11.5625, 12.625 , 13.6875, 14.75  , 15.8125,\n",
       "        16.875 , 17.9375, 19.    ]),\n",
       " <BarContainer object of 16 artists>)"
      ]
     },
     "execution_count": 40,
     "metadata": {},
     "output_type": "execute_result"
    },
    {
     "data": {
      "image/png": "[encoded data removed]",
      "text/plain": [
       "<Figure size 720x432 with 1 Axes>"
      ]
     },
     "metadata": {
      "needs_background": "light"
     },
     "output_type": "display_data"
    }
   ],
   "source": [
    "s=np.random.randint(20, size = 10)\n",
    "plt.show()                  \n",
    "plt.hist(s, 16, density=True,color='Green')"
   ]
  },
  {
   "cell_type": "code",
   "execution_count": 46,
   "metadata": {},
   "outputs": [
    {
     "data": {
      "image/png": "[encoded data removed]",
      "text/plain": [
       "<Figure size 720x432 with 1 Axes>"
      ]
     },
     "metadata": {
      "needs_background": "light"
     },
     "output_type": "display_data"
    }
   ],
   "source": [
    "from numpy.random import randint\n",
    "sampleMeans = []\n",
    "\n",
    "for _ in range(1000):\n",
    "    sampleMean = sum(randint(0, 20, 10))\n",
    "    sampleMeans.append(sampleMean)\n",
    "    \n",
    "plt.hist(sampleMeans, 1000)\n",
    "plt.show()"
   ]
  },
  {
   "cell_type": "code",
   "execution_count": 47,
   "metadata": {},
   "outputs": [
    {
     "name": "stdout",
     "output_type": "stream",
     "text": [
      "mean of s :  11.8\n"
     ]
    }
   ],
   "source": [
    "print(\"mean of s : \", np.mean(s))"
   ]
  },
  {
   "cell_type": "code",
   "execution_count": 48,
   "metadata": {},
   "outputs": [
    {
     "name": "stdout",
     "output_type": "stream",
     "text": [
      "\n",
      "var of s, axis = None :  31.559999999999995\n"
     ]
    }
   ],
   "source": [
    "# var of the flattened array \n",
    "print(\"\\nvar of s, axis = None : \", np.var(s)) "
   ]
  },
  {
   "cell_type": "code",
   "execution_count": 49,
   "metadata": {},
   "outputs": [
    {
     "name": "stdout",
     "output_type": "stream",
     "text": [
      "median of s :  13.0\n"
     ]
    }
   ],
   "source": [
    "print(\"median of s : \", np.median(s))"
   ]
  },
  {
   "cell_type": "code",
   "execution_count": 50,
   "metadata": {},
   "outputs": [
    {
     "name": "stdout",
     "output_type": "stream",
     "text": [
      "standard deviation 5.617828762075256\n"
     ]
    }
   ],
   "source": [
    "\n",
    "print('standard deviation', np.std(s))"
   ]
  },
  {
   "cell_type": "code",
   "execution_count": null,
   "metadata": {},
   "outputs": [],
   "source": []
  }
 ],
 "metadata": {
  "kernelspec": {
   "display_name": "Python 3",
   "language": "python",
   "name": "python3"
  },
  "language_info": {
   "codemirror_mode": {
    "name": "ipython",
    "version": 3
   },
   "file_extension": ".py",
   "mimetype": "text/x-python",
   "name": "python",
   "nbconvert_exporter": "python",
   "pygments_lexer": "ipython3",
   "version": "3.8.5"
  }
 },
 "nbformat": 4,
 "nbformat_minor": 4
}
