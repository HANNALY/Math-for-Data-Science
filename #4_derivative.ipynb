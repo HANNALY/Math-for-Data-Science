{
 "cells": [
  {
   "cell_type": "code",
   "execution_count": 1,
   "metadata": {},
   "outputs": [],
   "source": [
    "import numpy as np\n",
    "from sympy import *\n",
    "from scipy.misc import derivative\n",
    "import matplotlib.pyplot as plt"
   ]
  },
  {
   "cell_type": "code",
   "execution_count": 2,
   "metadata": {},
   "outputs": [
    {
     "data": {
      "text/latex": [
       "$\\displaystyle 2.50907180188165$"
      ],
      "text/plain": [
       "2.50907180188165"
      ]
     },
     "execution_count": 2,
     "metadata": {},
     "output_type": "execute_result"
    }
   ],
   "source": [
    "#первая производная\n",
    "def f(x):\n",
    "    return x ** 5 + 4 * sin (2 * x) + cos (3 * x + 3) \n",
    "derivative(f, 1.0, dx=1e-6,)\n",
    "\n"
   ]
  },
  {
   "cell_type": "code",
   "execution_count": 3,
   "metadata": {},
   "outputs": [
    {
     "data": {
      "text/latex": [
       "$\\displaystyle 5 x^{4} - 3 \\sin{\\left(3 x + 3 \\right)} + 8 \\cos{\\left(2 x \\right)}$"
      ],
      "text/plain": [
       "5*x**4 - 3*sin(3*x + 3) + 8*cos(2*x)"
      ]
     },
     "execution_count": 3,
     "metadata": {},
     "output_type": "execute_result"
    }
   ],
   "source": [
    "x = Symbol('x')\n",
    " \n",
    "\n",
    "f = x ** 5 + 4 * sin (2 * x) + cos (3 * x + 3)\n",
    " \n",
    "derivative_f = f.diff(x)\n",
    " \n",
    "derivative_f"
   ]
  },
  {
   "cell_type": "code",
   "execution_count": 4,
   "metadata": {},
   "outputs": [
    {
     "data": {
      "text/latex": [
       "$\\displaystyle -3.19029140749549$"
      ],
      "text/plain": [
       "-3.19029140749549"
      ]
     },
     "execution_count": 4,
     "metadata": {},
     "output_type": "execute_result"
    }
   ],
   "source": [
    "#вычисление второй производной\n",
    "def f(x):\n",
    "    return 5 * 𝑥 ** 4 - 3 * sin(3 * 𝑥 + 3) + 8 * cos(2 * 𝑥)\n",
    "\n",
    "derivative(f, 1.0, dx=1e-6)"
   ]
  },
  {
   "cell_type": "markdown",
   "metadata": {},
   "source": [
    "# Уровень 1"
   ]
  },
  {
   "cell_type": "code",
   "execution_count": 2,
   "metadata": {},
   "outputs": [
    {
     "data": {
      "text/latex": [
       "$\\displaystyle -0.616350600957226$"
      ],
      "text/plain": [
       "-0.616350600957226"
      ]
     },
     "execution_count": 2,
     "metadata": {},
     "output_type": "execute_result"
    }
   ],
   "source": [
    "\n",
    "import math\n",
    "def f(x):\n",
    "    return sin(2*x + 1) ** 5 \n",
    "\n",
    "derivative(f, 1.0)\n"
   ]
  },
  {
   "cell_type": "code",
   "execution_count": 3,
   "metadata": {},
   "outputs": [
    {
     "name": "stdout",
     "output_type": "stream",
     "text": [
      "sin(3)**5\n"
     ]
    }
   ],
   "source": [
    "\n",
    "# import sympy\n",
    "from sympy import *\n",
    "  \n",
    "# Use sympy.symbols() method\n",
    "x, y = symbols('x y')\n",
    "x = 1\n",
    "gfg = sin(2*x + 1) ** 5\n",
    "  \n",
    "print(gfg)"
   ]
  },
  {
   "cell_type": "code",
   "execution_count": 4,
   "metadata": {},
   "outputs": [
    {
     "name": "stdout",
     "output_type": "stream",
     "text": [
      "Before Differentiation : exp\n",
      "After Differentiation : 1\n"
     ]
    }
   ],
   "source": [
    " x, y = symbols('x y')\n",
    "gfg_exp = sin(2*x + 1) ** 5\n",
    "\n",
    "print(\"Before Differentiation : {}\".format(exp))\n",
    "  \n",
    "# Use sympy.diff() method\n",
    "dif = diff(exp, x)\n",
    "  \n",
    "print(\"After Differentiation : {}\".format(dif))"
   ]
  },
  {
   "cell_type": "code",
   "execution_count": 5,
   "metadata": {},
   "outputs": [
    {
     "name": "stdout",
     "output_type": "stream",
     "text": [
      "3.0*sin(2*x + 1)**5\n"
     ]
    }
   ],
   "source": [
    "expn = sqrt(9)*sin(2*x + 1) ** 5\n",
    "\n",
    "gfg = expn.evalf()\n",
    "\n",
    "  \n",
    "\n",
    "print(gfg)"
   ]
  },
  {
   "cell_type": "code",
   "execution_count": 12,
   "metadata": {},
   "outputs": [
    {
     "data": {
      "text/plain": [
       "array([-1.18880459e-02, -2.21770459e-01, -7.58196838e-01, -9.84707892e-01,\n",
       "       -5.39565672e-01, -9.58846302e-02, -1.29811481e-03,  5.35294482e-05,\n",
       "        3.85351797e-02,  3.64605743e-01,  8.98681725e-01,  9.02216470e-01,\n",
       "        3.69494830e-01,  3.97448909e-02,  6.11115579e-05, -1.21079711e-03,\n",
       "       -9.36351039e-02, -5.34153520e-01, -9.83204739e-01, -7.63103090e-01,\n",
       "       -2.25613135e-01, -1.23945463e-02, -3.53890467e-09,  7.72853754e-03,\n",
       "        1.86221870e-01,  7.08917405e-01,  9.95713025e-01,  5.92513136e-01,\n",
       "        1.19755011e-01,  2.43639306e-03, -1.16613663e-05, -2.80917609e-02,\n",
       "       -3.18323943e-01, -8.61482841e-01, -9.33785456e-01, -4.18465626e-01,\n",
       "       -5.30318465e-02, -1.89774168e-04,  5.77596661e-04,  7.35291927e-02,\n",
       "        4.81728213e-01,  9.64969668e-01,  8.09296069e-01,  2.65008025e-01,\n",
       "        1.82393260e-02,  6.23072939e-07, -4.78822497e-03, -1.54284509e-01,\n",
       "       -6.57646738e-01, -9.99951034e-01])"
      ]
     },
     "execution_count": 12,
     "metadata": {},
     "output_type": "execute_result"
    }
   ],
   "source": [
    "\n",
    "import sympy as sym\n",
    "\n",
    "x = sym.symbols(\"x\")\n",
    "x_values = np.linspace(-5, 5)\n",
    "\n",
    "function = sym.lambdify(x, sin(2*x + 1) ** 5, \"numpy\")\n",
    "function(x_values)"
   ]
  },
  {
   "cell_type": "code",
   "execution_count": 17,
   "metadata": {},
   "outputs": [
    {
     "data": {
      "text/plain": [
       "<sympy.plotting.plot.Plot at 0x1d45a5e3610>"
      ]
     },
     "execution_count": 17,
     "metadata": {},
     "output_type": "execute_result"
    }
   ],
   "source": [
    "#график первой производной\n",
    "from sympy import symbols\n",
    "from sympy.plotting import plot\n",
    "x = symbols('x')\n",
    "p1 = plot(sin(2*x + 1) ** 5, show=False)\n",
    "p2 = plot(x, -x, show=False)\n",
    "p1.extend(p2)\n",
    "p1\n"
   ]
  },
  {
   "cell_type": "code",
   "execution_count": 18,
   "metadata": {},
   "outputs": [
    {
     "data": {
      "image/png": "[encoded data removed]",
      "text/plain": [
       "<Figure size 432x288 with 1 Axes>"
      ]
     },
     "metadata": {
      "needs_background": "light"
     },
     "output_type": "display_data"
    }
   ],
   "source": [
    "p1.show()"
   ]
  },
  {
   "cell_type": "code",
   "execution_count": 19,
   "metadata": {},
   "outputs": [
    {
     "data": {
      "text/latex": [
       "$\\displaystyle 10 \\sin^{4}{\\left(2 x + 1 \\right)} \\cos{\\left(2 x + 1 \\right)}$"
      ],
      "text/plain": [
       "10*sin(2*x + 1)**4*cos(2*x + 1)"
      ]
     },
     "execution_count": 19,
     "metadata": {},
     "output_type": "execute_result"
    }
   ],
   "source": [
    "x = Symbol('x')\n",
    " \n",
    "\n",
    "f = sin(2*x + 1) ** 5\n",
    " \n",
    "derivative_f = f.diff(x)\n",
    " \n",
    "derivative_f"
   ]
  },
  {
   "cell_type": "code",
   "execution_count": 21,
   "metadata": {},
   "outputs": [],
   "source": [
    "#график второй производной\n",
    "def f(x):\n",
    "    return 10 * sin(2 * 𝑥 + 1) ** 4 * cos(2 * 𝑥 + 1)"
   ]
  },
  {
   "cell_type": "code",
   "execution_count": 30,
   "metadata": {},
   "outputs": [
    {
     "data": {
      "text/latex": [
       "$\\displaystyle -0.155204176760766$"
      ],
      "text/plain": [
       "-0.155204176760766"
      ]
     },
     "execution_count": 30,
     "metadata": {},
     "output_type": "execute_result"
    }
   ],
   "source": [
    "import math\n",
    "def f(x):\n",
    "    return 10 * sin(2 * 𝑥 + 1) ** 4 * cos(2 * 𝑥 + 1)\n",
    "\n",
    "derivative(f, 1.0)"
   ]
  },
  {
   "cell_type": "code",
   "execution_count": 23,
   "metadata": {},
   "outputs": [
    {
     "data": {
      "text/plain": [
       "array([-2.62826318e-01, -2.01625727e+00, -2.59440237e+00,  7.74304344e-01,\n",
       "        2.85469700e+00,  1.19547318e+00,  4.73024249e-02,  3.78951860e-03,\n",
       "        6.30657836e-01,  2.57084079e+00,  1.87772076e+00, -1.84941498e+00,\n",
       "       -2.58438439e+00, -6.44943947e-01, -4.21087750e-03, -4.47856394e-02,\n",
       "       -1.17654315e+00, -2.85204995e+00, -8.10661920e-01,  2.57889485e+00,\n",
       "        2.03561426e+00,  2.71278908e-01,  1.73382254e-06,  1.89224065e-01,\n",
       "        1.82344336e+00,  2.72286964e+00, -4.12945327e-01, -2.85932866e+00,\n",
       "       -1.38477817e+00, -7.74276352e-02, -1.12480704e-03, -5.00487142e-01,\n",
       "       -2.42576688e+00, -2.13561603e+00,  1.55643734e+00,  2.70190728e+00,\n",
       "        7.93232615e-01,  1.03615575e-02,  2.50040891e-02,  9.97571734e-01,\n",
       "        2.80605755e+00,  1.15658176e+00, -2.40513541e+00, -2.21875026e+00,\n",
       "       -3.63018099e-01, -1.08371353e-04, -1.30876407e-01, -1.62687065e+00,\n",
       "       -2.80950545e+00,  4.42552462e-02])"
      ]
     },
     "execution_count": 23,
     "metadata": {},
     "output_type": "execute_result"
    }
   ],
   "source": [
    "import sympy as sym\n",
    "\n",
    "x = sym.symbols(\"x\")\n",
    "x_values = np.linspace(-5, 5)\n",
    "\n",
    "function = sym.lambdify(x, 10 * sin(2 * 𝑥 + 1) ** 4 * cos(2 * 𝑥 + 1), \"numpy\")\n",
    "function(x_values)"
   ]
  },
  {
   "cell_type": "code",
   "execution_count": 27,
   "metadata": {},
   "outputs": [
    {
     "data": {
      "text/plain": [
       "<sympy.plotting.plot.Plot at 0x1d45a95cc10>"
      ]
     },
     "execution_count": 27,
     "metadata": {},
     "output_type": "execute_result"
    }
   ],
   "source": [
    "from sympy import symbols\n",
    "from sympy.plotting import plot\n",
    "x = symbols('x')\n",
    "p1 = plot(10 * sin(2 * 𝑥 + 1) ** 4 * cos(2 * 𝑥 + 1), show=False)\n",
    "p2 = plot(x, -x, show=False)\n",
    "p1.extend(p2)\n",
    "p1\n"
   ]
  },
  {
   "cell_type": "code",
   "execution_count": 28,
   "metadata": {},
   "outputs": [
    {
     "data": {
      "image/png": "[encoded data removed]",
      "text/plain": [
       "<Figure size 432x288 with 1 Axes>"
      ]
     },
     "metadata": {
      "needs_background": "light"
     },
     "output_type": "display_data"
    }
   ],
   "source": [
    "p1.show()"
   ]
  },
  {
   "cell_type": "code",
   "execution_count": null,
   "metadata": {},
   "outputs": [],
   "source": []
  }
 ],
 "metadata": {
  "kernelspec": {
   "display_name": "Python 3",
   "language": "python",
   "name": "python3"
  },
  "language_info": {
   "codemirror_mode": {
    "name": "ipython",
    "version": 3
   },
   "file_extension": ".py",
   "mimetype": "text/x-python",
   "name": "python",
   "nbconvert_exporter": "python",
   "pygments_lexer": "ipython3",
   "version": "3.8.5"
  }
 },
 "nbformat": 4,
 "nbformat_minor": 4
}
