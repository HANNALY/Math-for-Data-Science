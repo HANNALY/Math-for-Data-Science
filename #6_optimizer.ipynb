{
 "cells": [
  {
   "cell_type": "code",
   "execution_count": 23,
   "metadata": {},
   "outputs": [],
   "source": [
    "import numpy as np\n",
    "from numpy import arange\n",
    "from scipy.optimize import differential_evolution, minimize\n",
    "import random"
   ]
  },
  {
   "cell_type": "code",
   "execution_count": 24,
   "metadata": {},
   "outputs": [],
   "source": [
    "def ackley(x):\n",
    "    arg1 = -0.2 * np.sqrt(0.5 * (x[0] ** 2 + x[1] ** 2))\n",
    "    arg2 = 0.5 * (np.cos(2. * np.pi * x[0]) + np.cos(2. * np.pi * x[1]))\n",
    "    return -20. * np.exp(arg1) - np.exp(arg2) + 20. + np.e"
   ]
  },
  {
   "cell_type": "code",
   "execution_count": 25,
   "metadata": {},
   "outputs": [
    {
     "data": {
      "text/plain": [
       "     fun: 2.579927557029919\n",
       "     jac: array([2.84217094e-06, 7.10542732e-07])\n",
       " message: 'Optimization terminated successfully.'\n",
       "    nfev: 120\n",
       "     nit: 17\n",
       " success: True\n",
       "       x: array([4.15328094e-08, 9.52166554e-01])"
      ]
     },
     "execution_count": 25,
     "metadata": {},
     "output_type": "execute_result"
    }
   ],
   "source": [
    "bounds = [(-5, 5), (-5, 5)]\n",
    "x0=[1.]\n",
    "results = differential_evolution(ackley, bounds, strategy='best1bin',\n",
    "                                         popsize=0.7, tol=0.01,\n",
    "                                         mutation=(0.5,1),\n",
    "                                         recombination=0.7,\n",
    "                                         seed=42, updating='deferred' \n",
    "                                         )\n",
    "\n",
    "results"
   ]
  },
  {
   "cell_type": "code",
   "execution_count": 26,
   "metadata": {},
   "outputs": [
    {
     "data": {
      "text/plain": [
       "2.579927557029919"
      ]
     },
     "execution_count": 26,
     "metadata": {},
     "output_type": "execute_result"
    }
   ],
   "source": [
    "results.fun"
   ]
  },
  {
   "cell_type": "code",
   "execution_count": 27,
   "metadata": {},
   "outputs": [],
   "source": [
    "x = np.array([4.15328094e-08, 9.52166554e-01])"
   ]
  },
  {
   "cell_type": "code",
   "execution_count": 28,
   "metadata": {},
   "outputs": [
    {
     "data": {
      "text/plain": [
       "<Figure size 432x288 with 0 Axes>"
      ]
     },
     "metadata": {},
     "output_type": "display_data"
    },
    {
     "data": {
      "image/png": "[encoded data removed]",
      "text/plain": [
       "<Figure size 720x504 with 1 Axes>"
      ]
     },
     "metadata": {
      "needs_background": "light"
     },
     "output_type": "display_data"
    }
   ],
   "source": [
    "from matplotlib import pyplot\n",
    "import matplotlib.pyplot as plt\n",
    "figure = pyplot.figure()\n",
    "\n",
    "# show the plot\n",
    "plt.figure(figsize=(10,7))\n",
    "plt.plot(x)\n",
    "plt.plot([results.fun])\n",
    "plt.show()"
   ]
  },
  {
   "cell_type": "code",
   "execution_count": 63,
   "metadata": {},
   "outputs": [
    {
     "data": {
      "text/plain": [
       "     fun: 2.5417119520199094e-08\n",
       "     jac: array([-0.61027059, -0.33049119])\n",
       " message: 'Optimization terminated successfully.'\n",
       "    nfev: 559\n",
       "     nit: 94\n",
       " success: True\n",
       "       x: array([-6.70614632e-09, -5.98175141e-09])"
      ]
     },
     "execution_count": 63,
     "metadata": {},
     "output_type": "execute_result"
    }
   ],
   "source": [
    "bounds = [(-5, 5), (-5, 5)]\n",
    "x0=[1.]\n",
    "results1 = differential_evolution(ackley, bounds, strategy='rand1bin',\n",
    "                                         popsize=0.2, tol=0.01,  mutation=(0.9,1),\n",
    "                                         recombination=0.4,\n",
    "                                        seed=42, updating='immediate' \n",
    "                                         )\n",
    "results1"
   ]
  },
  {
   "cell_type": "code",
   "execution_count": 57,
   "metadata": {},
   "outputs": [
    {
     "data": {
      "text/plain": [
       "(array([ 3.52051721e-12, -3.25850458e-13]), 1.000133309503326e-11)"
      ]
     },
     "execution_count": 57,
     "metadata": {},
     "output_type": "execute_result"
    }
   ],
   "source": [
    "results1.x,results1.fun"
   ]
  },
  {
   "cell_type": "code",
   "execution_count": 58,
   "metadata": {},
   "outputs": [],
   "source": [
    "x = np.array( [3.12761135e-06, -2.91916967e-04])"
   ]
  },
  {
   "cell_type": "code",
   "execution_count": 59,
   "metadata": {},
   "outputs": [
    {
     "data": {
      "image/png": "[encoded data removed]",
      "text/plain": [
       "<Figure size 432x288 with 1 Axes>"
      ]
     },
     "metadata": {
      "needs_background": "light"
     },
     "output_type": "display_data"
    }
   ],
   "source": [
    "from matplotlib import pyplot\n",
    "import matplotlib.pyplot as plt\n",
    "figure = pyplot.figure()\n",
    "\n",
    "# show the plot\n",
    "plt.plot(x)\n",
    "plt.plot([results1.fun])\n",
    "plt.show()\n"
   ]
  },
  {
   "cell_type": "code",
   "execution_count": 71,
   "metadata": {},
   "outputs": [
    {
     "data": {
      "text/plain": [
       "     fun: 4.440892098500626e-16\n",
       " message: 'Optimization terminated successfully.'\n",
       "    nfev: 708\n",
       "     nit: 128\n",
       " success: True\n",
       "       x: array([0., 0.])"
      ]
     },
     "execution_count": 71,
     "metadata": {},
     "output_type": "execute_result"
    }
   ],
   "source": [
    "bounds = [(-5, 5), (-5, 5)]\n",
    "x0=[1.]\n",
    "results2 = differential_evolution(ackley, bounds, strategy='best2bin',\n",
    "                                         popsize=0.7, tol=0.02,\n",
    "                                         mutation=(0.5,0.5),\n",
    "                                         recombination=0.9,\n",
    "                                         seed=42, updating='deferred' \n",
    "                                         )\n",
    "\n",
    "results2"
   ]
  },
  {
   "cell_type": "code",
   "execution_count": 72,
   "metadata": {},
   "outputs": [
    {
     "data": {
      "text/plain": [
       "4.440892098500626e-16"
      ]
     },
     "execution_count": 72,
     "metadata": {},
     "output_type": "execute_result"
    }
   ],
   "source": [
    "results2.fun"
   ]
  },
  {
   "cell_type": "code",
   "execution_count": 73,
   "metadata": {},
   "outputs": [],
   "source": [
    "x = np.array([4.15328094e-08, 9.52166554e-01])"
   ]
  },
  {
   "cell_type": "code",
   "execution_count": 74,
   "metadata": {},
   "outputs": [
    {
     "data": {
      "image/png": "[encoded data removed]",
      "text/plain": [
       "<Figure size 432x288 with 1 Axes>"
      ]
     },
     "metadata": {
      "needs_background": "light"
     },
     "output_type": "display_data"
    }
   ],
   "source": [
    "from matplotlib import pyplot\n",
    "import matplotlib.pyplot as plt\n",
    "figure = pyplot.figure()\n",
    "\n",
    "# show the plot\n",
    "plt.plot(x)\n",
    "plt.plot([results2.fun])\n",
    "plt.show()"
   ]
  },
  {
   "cell_type": "markdown",
   "metadata": {},
   "source": [
    "# Дополнительное задание"
   ]
  },
  {
   "cell_type": "code",
   "execution_count": 76,
   "metadata": {},
   "outputs": [],
   "source": [
    "from scipy.optimize import NonlinearConstraint, Bounds, rosen"
   ]
  },
  {
   "cell_type": "code",
   "execution_count": 89,
   "metadata": {},
   "outputs": [
    {
     "data": {
      "text/plain": [
       "     fun: 4.440892098500626e-16\n",
       " message: 'Optimization terminated successfully.'\n",
       "    nfev: 3123\n",
       "     nit: 101\n",
       " success: True\n",
       "       x: array([0., 0.])"
      ]
     },
     "execution_count": 89,
     "metadata": {},
     "output_type": "execute_result"
    }
   ],
   "source": [
    "\n",
    "def ackley(x):\n",
    "    arg1 = -0.2 * np.sqrt(0.5 * (x[0] ** 2 + x[1] ** 2))\n",
    "    arg2 = 0.5 * (np.cos(2. * np.pi * x[0]) + np.cos(2. * np.pi * x[1]))\n",
    "    return -20. * np.exp(arg1) - np.exp(arg2) + 20. + np.e\n",
    "\n",
    "bounds = [(-10, 10), (-10, 10)]\n",
    "\n",
    "result = differential_evolution(ackley, bounds,  updating='immediate', strategy = 'randtobest1bin', seed = 42)\n",
    "result\n"
   ]
  },
  {
   "cell_type": "code",
   "execution_count": 91,
   "metadata": {},
   "outputs": [
    {
     "data": {
      "text/plain": [
       "\"(updating='immediate', strategy='randtobest1bin')\""
      ]
     },
     "execution_count": 91,
     "metadata": {},
     "output_type": "execute_result"
    }
   ],
   "source": [
    "from inspect import signature\n",
    "\n",
    "def differential_evolution(updating='immediate', strategy = 'randtobest1bin'):\n",
    "    pass\n",
    "\n",
    "sig = signature(differential_evolution)\n",
    "str(sig) "
   ]
  },
  {
   "cell_type": "code",
   "execution_count": 15,
   "metadata": {},
   "outputs": [
    {
     "data": {
      "text/plain": [
       "(array([0., 0.]), 4.440892098500626e-16)"
      ]
     },
     "execution_count": 15,
     "metadata": {},
     "output_type": "execute_result"
    }
   ],
   "source": [
    "result.x, result.fun"
   ]
  },
  {
   "cell_type": "code",
   "execution_count": 19,
   "metadata": {},
   "outputs": [
    {
     "data": {
      "text/plain": [
       "     fun: 10.99826222935511\n",
       "   maxcv: 0.0\n",
       " message: 'Optimization terminated successfully.'\n",
       "    nfev: 46\n",
       "  status: 1\n",
       " success: True\n",
       "       x: array([[-3.98311865,  5.        ],\n",
       "       [-3.98311517,  5.00008917]])"
      ]
     },
     "execution_count": 19,
     "metadata": {},
     "output_type": "execute_result"
    }
   ],
   "source": [
    "res = minimize(ackley, bounds, method = 'COBYLA', options={'xtol': 1e-6, 'disp': True})\n",
    "res"
   ]
  },
  {
   "cell_type": "code",
   "execution_count": null,
   "metadata": {},
   "outputs": [],
   "source": []
  }
 ],
 "metadata": {
  "kernelspec": {
   "display_name": "Python 3",
   "language": "python",
   "name": "python3"
  },
  "language_info": {
   "codemirror_mode": {
    "name": "ipython",
    "version": 3
   },
   "file_extension": ".py",
   "mimetype": "text/x-python",
   "name": "python",
   "nbconvert_exporter": "python",
   "pygments_lexer": "ipython3",
   "version": "3.8.5"
  }
 },
 "nbformat": 4,
 "nbformat_minor": 4
}
